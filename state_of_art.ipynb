{
 "cells": [
  {
   "cell_type": "code",
   "execution_count": 3,
   "metadata": {},
   "outputs": [],
   "source": [
    "import pandas as pd\n",
    "import gzip\n",
    "import json\n",
    "import matplotlib.pyplot as plt\n",
    "import seaborn as sns\n",
    "import numpy as np\n",
    "import os\n",
    "from sklearn.linear_model import LogisticRegression\n",
    "from sklearn.model_selection import StratifiedShuffleSplit\n",
    "from preprocessing.pre_process import clean_data_helpfulness\n",
    "from sample.under_sampling import under_sample\n",
    "from network.svc import svc_hypertune"
   ]
  },
  {
   "cell_type": "code",
   "execution_count": 4,
   "metadata": {},
   "outputs": [],
   "source": [
    "filename=\"data/reviews_Office_Products_5.json.gz\"\n",
    "path=os.path.join(os.getcwd(), filename)\n",
    "\n",
    "def parse(path):\n",
    "    with gzip.open(path, 'rb') as f:\n",
    "        for line in f:\n",
    "            yield json.loads(line)\n",
    "\n",
    "def getDF(path):\n",
    "    try:\n",
    "        df = {i: d for i, d in enumerate(parse(path))}\n",
    "        return pd.DataFrame.from_dict(df, orient='index')\n",
    "    except FileNotFoundError:\n",
    "        print(f\"Error: File '{path}' not found.\")\n",
    "    except Exception as e:\n",
    "        print(f\"Error: {e}\")\n",
    "\n",
    "amazon_reviews = getDF(path)"
   ]
  },
  {
   "cell_type": "code",
   "execution_count": 5,
   "metadata": {},
   "outputs": [
    {
     "name": "stdout",
     "output_type": "stream",
     "text": [
      "Cleaning the text...\n"
     ]
    }
   ],
   "source": [
    "amazon_reviews = clean_data_helpfulness(amazon_reviews)"
   ]
  },
  {
   "cell_type": "code",
   "execution_count": 6,
   "metadata": {},
   "outputs": [
    {
     "data": {
      "text/html": [
       "<div>\n",
       "<style scoped>\n",
       "    .dataframe tbody tr th:only-of-type {\n",
       "        vertical-align: middle;\n",
       "    }\n",
       "\n",
       "    .dataframe tbody tr th {\n",
       "        vertical-align: top;\n",
       "    }\n",
       "\n",
       "    .dataframe thead th {\n",
       "        text-align: right;\n",
       "    }\n",
       "</style>\n",
       "<table border=\"1\" class=\"dataframe\">\n",
       "  <thead>\n",
       "    <tr style=\"text-align: right;\">\n",
       "      <th></th>\n",
       "      <th>clean_text</th>\n",
       "      <th>helpful</th>\n",
       "      <th>sentiment</th>\n",
       "    </tr>\n",
       "  </thead>\n",
       "  <tbody>\n",
       "    <tr>\n",
       "      <th>0</th>\n",
       "      <td>bought first hp c serv faith lost travel searc...</td>\n",
       "      <td>[3, 4]</td>\n",
       "      <td>Positive</td>\n",
       "    </tr>\n",
       "    <tr>\n",
       "      <th>1</th>\n",
       "      <td>belat review feel oblig share view old workhor...</td>\n",
       "      <td>[7, 9]</td>\n",
       "      <td>Positive</td>\n",
       "    </tr>\n",
       "    <tr>\n",
       "      <th>2</th>\n",
       "      <td>hp gx kick twenti year hp year old still flawl...</td>\n",
       "      <td>[3, 3]</td>\n",
       "      <td>Negative</td>\n",
       "    </tr>\n",
       "    <tr>\n",
       "      <th>3</th>\n",
       "      <td>start financ stuff recent went look good time ...</td>\n",
       "      <td>[7, 8]</td>\n",
       "      <td>Positive</td>\n",
       "    </tr>\n",
       "    <tr>\n",
       "      <th>4</th>\n",
       "      <td>simpl calcul discount cash flow one still best...</td>\n",
       "      <td>[0, 0]</td>\n",
       "      <td>Positive</td>\n",
       "    </tr>\n",
       "  </tbody>\n",
       "</table>\n",
       "</div>"
      ],
      "text/plain": [
       "                                          clean_text helpful sentiment\n",
       "0  bought first hp c serv faith lost travel searc...  [3, 4]  Positive\n",
       "1  belat review feel oblig share view old workhor...  [7, 9]  Positive\n",
       "2  hp gx kick twenti year hp year old still flawl...  [3, 3]  Negative\n",
       "3  start financ stuff recent went look good time ...  [7, 8]  Positive\n",
       "4  simpl calcul discount cash flow one still best...  [0, 0]  Positive"
      ]
     },
     "execution_count": 6,
     "metadata": {},
     "output_type": "execute_result"
    }
   ],
   "source": [
    "amazon_reviews.head()"
   ]
  },
  {
   "cell_type": "code",
   "execution_count": 7,
   "metadata": {},
   "outputs": [
    {
     "data": {
      "text/html": [
       "<div>\n",
       "<style scoped>\n",
       "    .dataframe tbody tr th:only-of-type {\n",
       "        vertical-align: middle;\n",
       "    }\n",
       "\n",
       "    .dataframe tbody tr th {\n",
       "        vertical-align: top;\n",
       "    }\n",
       "\n",
       "    .dataframe thead th {\n",
       "        text-align: right;\n",
       "    }\n",
       "</style>\n",
       "<table border=\"1\" class=\"dataframe\">\n",
       "  <thead>\n",
       "    <tr style=\"text-align: right;\">\n",
       "      <th></th>\n",
       "      <th>clean_text</th>\n",
       "      <th>helpful</th>\n",
       "      <th>sentiment</th>\n",
       "      <th>helpful_votes</th>\n",
       "      <th>total_votes</th>\n",
       "      <th>helpfullness</th>\n",
       "    </tr>\n",
       "  </thead>\n",
       "  <tbody>\n",
       "    <tr>\n",
       "      <th>0</th>\n",
       "      <td>bought first hp c serv faith lost travel searc...</td>\n",
       "      <td>[3, 4]</td>\n",
       "      <td>Positive</td>\n",
       "      <td>3</td>\n",
       "      <td>4</td>\n",
       "      <td>0.750000</td>\n",
       "    </tr>\n",
       "    <tr>\n",
       "      <th>1</th>\n",
       "      <td>belat review feel oblig share view old workhor...</td>\n",
       "      <td>[7, 9]</td>\n",
       "      <td>Positive</td>\n",
       "      <td>7</td>\n",
       "      <td>9</td>\n",
       "      <td>0.777778</td>\n",
       "    </tr>\n",
       "    <tr>\n",
       "      <th>2</th>\n",
       "      <td>hp gx kick twenti year hp year old still flawl...</td>\n",
       "      <td>[3, 3]</td>\n",
       "      <td>Negative</td>\n",
       "      <td>3</td>\n",
       "      <td>3</td>\n",
       "      <td>1.000000</td>\n",
       "    </tr>\n",
       "    <tr>\n",
       "      <th>3</th>\n",
       "      <td>start financ stuff recent went look good time ...</td>\n",
       "      <td>[7, 8]</td>\n",
       "      <td>Positive</td>\n",
       "      <td>7</td>\n",
       "      <td>8</td>\n",
       "      <td>0.875000</td>\n",
       "    </tr>\n",
       "    <tr>\n",
       "      <th>4</th>\n",
       "      <td>simpl calcul discount cash flow one still best...</td>\n",
       "      <td>[0, 0]</td>\n",
       "      <td>Positive</td>\n",
       "      <td>0</td>\n",
       "      <td>0</td>\n",
       "      <td>0.000000</td>\n",
       "    </tr>\n",
       "  </tbody>\n",
       "</table>\n",
       "</div>"
      ],
      "text/plain": [
       "                                          clean_text helpful sentiment  \\\n",
       "0  bought first hp c serv faith lost travel searc...  [3, 4]  Positive   \n",
       "1  belat review feel oblig share view old workhor...  [7, 9]  Positive   \n",
       "2  hp gx kick twenti year hp year old still flawl...  [3, 3]  Negative   \n",
       "3  start financ stuff recent went look good time ...  [7, 8]  Positive   \n",
       "4  simpl calcul discount cash flow one still best...  [0, 0]  Positive   \n",
       "\n",
       "   helpful_votes  total_votes  helpfullness  \n",
       "0              3            4      0.750000  \n",
       "1              7            9      0.777778  \n",
       "2              3            3      1.000000  \n",
       "3              7            8      0.875000  \n",
       "4              0            0      0.000000  "
      ]
     },
     "execution_count": 7,
     "metadata": {},
     "output_type": "execute_result"
    }
   ],
   "source": [
    "# Extract helpful votes and total votes from the 'helpful' column\n",
    "amazon_reviews['helpful_votes'] = amazon_reviews['helpful'].apply(lambda x: x[0])\n",
    "amazon_reviews['total_votes'] = amazon_reviews['helpful'].apply(lambda x: x[1])\n",
    "\n",
    "# Calculate the quality score for each review\n",
    "# Quality score = Number of helpful votes / Total number of votes\n",
    "# For reviews with no votes, the quality score will be NaN or 0 (we will handle this later)\n",
    "amazon_reviews['helpfullness'] = amazon_reviews['helpful_votes'] / amazon_reviews['total_votes']\n",
    "amazon_reviews['helpfullness'] = amazon_reviews['helpfullness'].fillna(0)\n",
    "\n",
    "# Display the updated dataframe\n",
    "amazon_reviews.head()"
   ]
  },
  {
   "cell_type": "code",
   "execution_count": 8,
   "metadata": {},
   "outputs": [
    {
     "data": {
      "text/plain": [
       "(52799, 6)"
      ]
     },
     "execution_count": 8,
     "metadata": {},
     "output_type": "execute_result"
    }
   ],
   "source": [
    "amazon_reviews.shape"
   ]
  },
  {
   "cell_type": "code",
   "execution_count": 9,
   "metadata": {},
   "outputs": [
    {
     "data": {
      "text/plain": [
       "sentiment\n",
       "Positive    85.090627\n",
       "Neutral      9.526696\n",
       "Negative     5.382678\n",
       "Name: count, dtype: float64"
      ]
     },
     "execution_count": 9,
     "metadata": {},
     "output_type": "execute_result"
    }
   ],
   "source": [
    "# distribution of sentiment classes \n",
    "amazon_reviews.value_counts('sentiment')/len(amazon_reviews)*100"
   ]
  },
  {
   "cell_type": "code",
   "execution_count": 10,
   "metadata": {},
   "outputs": [],
   "source": [
    "# under sampling \n",
    "amazon_reviews_balanced = under_sample(amazon_reviews)"
   ]
  },
  {
   "cell_type": "code",
   "execution_count": 11,
   "metadata": {},
   "outputs": [
    {
     "data": {
      "text/plain": [
       "sentiment\n",
       "Negative    33.333333\n",
       "Neutral     33.333333\n",
       "Positive    33.333333\n",
       "Name: count, dtype: float64"
      ]
     },
     "execution_count": 11,
     "metadata": {},
     "output_type": "execute_result"
    }
   ],
   "source": [
    "# distribution of sentiment classes after under sampling\n",
    "amazon_reviews_balanced.value_counts('sentiment')/len(amazon_reviews_balanced)*100"
   ]
  },
  {
   "cell_type": "code",
   "execution_count": 12,
   "metadata": {},
   "outputs": [],
   "source": [
    "# X is both clean_text and helpfulness column\n",
    "X = amazon_reviews_balanced[['clean_text', 'helpfullness']]\n",
    "y = amazon_reviews_balanced['sentiment'] \n",
    "\n",
    "# split data into train and test sets\n",
    "sss = StratifiedShuffleSplit(n_splits=1, test_size=0.2, random_state=42)\n",
    "for train_index, test_index in sss.split(X, y):\n",
    "    X_train, X_test = X.iloc[train_index], X.iloc[test_index]\n",
    "    y_train, y_test = y[train_index], y[test_index]"
   ]
  },
  {
   "cell_type": "code",
   "execution_count": 15,
   "metadata": {},
   "outputs": [
    {
     "name": "stdout",
     "output_type": "stream",
     "text": [
      "Train set shape: (6820, 2)\n",
      "Test set shape: (1706, 2)\n",
      "Train target shape: (6820,)\n",
      "Test target shape: (1706,)\n"
     ]
    }
   ],
   "source": [
    "print(f\"Train set shape: {X_train.shape}\")\n",
    "print(f\"Test set shape: {X_test.shape}\")\n",
    "print(f\"Train target shape: {y_train.shape}\")\n",
    "print(f\"Test target shape: {y_test.shape}\")"
   ]
  },
  {
   "cell_type": "code",
   "execution_count": 23,
   "metadata": {},
   "outputs": [],
   "source": [
    "# hyper tune a svc model\n",
    "from sklearn.svm import SVC\n",
    "from sklearn.pipeline import Pipeline\n",
    "from sklearn.feature_extraction.text import TfidfVectorizer\n",
    "from sklearn.model_selection import GridSearchCV\n",
    "\n",
    "# vectorize the clean_text column\n",
    "vectorizer = TfidfVectorizer()\n",
    "clean_train_transformed = vectorizer.fit_transform(X_train['clean_text'])\n",
    "clean_test_transformed = vectorizer.transform(X_test['clean_text'])"
   ]
  },
  {
   "cell_type": "code",
   "execution_count": 24,
   "metadata": {},
   "outputs": [],
   "source": [
    "# concat the helpfulness column to the vectorized clean_text column\n",
    "from scipy.sparse import hstack\n",
    "X_train_transformed = hstack((clean_train_transformed, np.array(X_train['helpfullness'])[:,None]))\n",
    "X_test_transformed = hstack((clean_test_transformed, np.array(X_test['helpfullness'])[:,None]))"
   ]
  },
  {
   "cell_type": "code",
   "execution_count": 25,
   "metadata": {},
   "outputs": [
    {
     "name": "stdout",
     "output_type": "stream",
     "text": [
      "Fitting 5 folds for each of 75 candidates, totalling 375 fits\n"
     ]
    }
   ],
   "source": [
    "\n",
    "# hyper tune svc model\n",
    "pipline = Pipeline([('clf', SVC())])\n",
    "\n",
    "parameters = {'clf__C': [0.1, 1, 10, 100, 1000],\n",
    "                'clf__gamma': [1, 0.1, 0.01, 0.001, 0.0001],\n",
    "                'clf__kernel': ['rbf', 'poly', 'sigmoid']}\n",
    "grid_search = GridSearchCV(pipline, parameters, n_jobs=-1, cv=5, verbose=2)\n",
    "\n",
    "grid_search.fit(X_train_transformed, y_train)"
   ]
  }
 ],
 "metadata": {
  "kernelspec": {
   "display_name": "env",
   "language": "python",
   "name": "python3"
  },
  "language_info": {
   "codemirror_mode": {
    "name": "ipython",
    "version": 3
   },
   "file_extension": ".py",
   "mimetype": "text/x-python",
   "name": "python",
   "nbconvert_exporter": "python",
   "pygments_lexer": "ipython3",
   "version": "3.10.11"
  }
 },
 "nbformat": 4,
 "nbformat_minor": 2
}
