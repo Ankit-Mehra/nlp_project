{
 "cells": [
  {
   "cell_type": "code",
   "execution_count": 1,
   "metadata": {},
   "outputs": [],
   "source": [
    "import pandas as pd\n",
    "import os\n",
    "# path = os.path.join('data', 'texblob_predicted.csv')\n",
    "texblob = pd.read_csv('data/metrics_comparison_table.csv')"
   ]
  },
  {
   "cell_type": "code",
   "execution_count": 2,
   "metadata": {},
   "outputs": [
    {
     "data": {
      "text/html": [
       "<div>\n",
       "<style scoped>\n",
       "    .dataframe tbody tr th:only-of-type {\n",
       "        vertical-align: middle;\n",
       "    }\n",
       "\n",
       "    .dataframe tbody tr th {\n",
       "        vertical-align: top;\n",
       "    }\n",
       "\n",
       "    .dataframe thead th {\n",
       "        text-align: right;\n",
       "    }\n",
       "</style>\n",
       "<table border=\"1\" class=\"dataframe\">\n",
       "  <thead>\n",
       "    <tr style=\"text-align: right;\">\n",
       "      <th></th>\n",
       "      <th>Algorithm</th>\n",
       "      <th>Accuracy</th>\n",
       "      <th>Precision</th>\n",
       "      <th>Recall</th>\n",
       "      <th>F1</th>\n",
       "    </tr>\n",
       "  </thead>\n",
       "  <tbody>\n",
       "    <tr>\n",
       "      <th>0</th>\n",
       "      <td>Texblob</td>\n",
       "      <td>0.723751</td>\n",
       "      <td>0.805440</td>\n",
       "      <td>0.723751</td>\n",
       "      <td>0.757164</td>\n",
       "    </tr>\n",
       "    <tr>\n",
       "      <th>1</th>\n",
       "      <td>Vader</td>\n",
       "      <td>0.826707</td>\n",
       "      <td>0.801022</td>\n",
       "      <td>0.826707</td>\n",
       "      <td>0.812372</td>\n",
       "    </tr>\n",
       "    <tr>\n",
       "      <th>2</th>\n",
       "      <td>SVC</td>\n",
       "      <td>0.732926</td>\n",
       "      <td>0.897230</td>\n",
       "      <td>0.732926</td>\n",
       "      <td>0.782023</td>\n",
       "    </tr>\n",
       "    <tr>\n",
       "      <th>3</th>\n",
       "      <td>Logistic</td>\n",
       "      <td>0.713558</td>\n",
       "      <td>0.883101</td>\n",
       "      <td>0.713558</td>\n",
       "      <td>0.767337</td>\n",
       "    </tr>\n",
       "  </tbody>\n",
       "</table>\n",
       "</div>"
      ],
      "text/plain": [
       "  Algorithm  Accuracy  Precision    Recall        F1\n",
       "0   Texblob  0.723751   0.805440  0.723751  0.757164\n",
       "1     Vader  0.826707   0.801022  0.826707  0.812372\n",
       "2       SVC  0.732926   0.897230  0.732926  0.782023\n",
       "3  Logistic  0.713558   0.883101  0.713558  0.767337"
      ]
     },
     "execution_count": 2,
     "metadata": {},
     "output_type": "execute_result"
    }
   ],
   "source": [
    "texblob.head()"
   ]
  },
  {
   "cell_type": "code",
   "execution_count": 1,
   "metadata": {},
   "outputs": [],
   "source": []
  },
  {
   "cell_type": "code",
   "execution_count": 3,
   "metadata": {},
   "outputs": [],
   "source": [
    "from svc_best import get_random_text\n",
    "from state_of_art import predict_helpful"
   ]
  },
  {
   "cell_type": "code",
   "execution_count": 4,
   "metadata": {},
   "outputs": [
    {
     "data": {
      "text/plain": [
       "(\"Let me qualify all further comments with this: It's a Canon printer, and therefore the best.  It prints beautifully and is a great bang for your buck value.  But as Canon printers go, it's a bust.  I would recommend you buy a different model of Canon printer, but if you got it for free  as a going away gift for college, then that's awesome.Starting with the obvious, this printer has for real buttons--not touch sensitive panel buttons, but actual mechanical buttons.  Buttons tend to wear out, break, or get inundated with dirt, then stop working properly.  This simply doesn't belong on a Canon printer.Good durable design, and downright good looking--though again, not as good looking as the other Canon printers we tried.The paper tray is a bit rediculous.  We found that unless you include the card weight paper insert, and lay your paper on top, then it wont function properly.  So don't throw away that insert.Ink cartridges are hard to put in, especially compared to the other Canon printers which are very easy to use.  And on top of that, some of the ink which is apparrently liquid dripped out onto my wife's favorite jeans and ruined them.  We never had these problems with the other Canons we tried, even the cheapest one.But again, it prints and scans as well as its better siblings, and for that you shouldn't regret having it if it was a gift or you bought this model instead of a nicer one.\",\n",
       " '[1, 6]')"
      ]
     },
     "execution_count": 4,
     "metadata": {},
     "output_type": "execute_result"
    }
   ],
   "source": [
    "random_text, random_label = get_random_text()\n",
    "random_text, random_label"
   ]
  },
  {
   "cell_type": "code",
   "execution_count": 9,
   "metadata": {},
   "outputs": [],
   "source": [
    "random = eval(random_label)"
   ]
  },
  {
   "cell_type": "code",
   "execution_count": 11,
   "metadata": {},
   "outputs": [],
   "source": [
    "help = random[0]/random[1]"
   ]
  },
  {
   "cell_type": "code",
   "execution_count": 12,
   "metadata": {},
   "outputs": [
    {
     "data": {
      "text/plain": [
       "0.16666666666666666"
      ]
     },
     "execution_count": 12,
     "metadata": {},
     "output_type": "execute_result"
    }
   ],
   "source": [
    "help"
   ]
  },
  {
   "cell_type": "code",
   "execution_count": 13,
   "metadata": {},
   "outputs": [
    {
     "ename": "TypeError",
     "evalue": "predict_helpful() missing 1 required positional argument: 'helpful'",
     "output_type": "error",
     "traceback": [
      "\u001b[1;31m---------------------------------------------------------------------------\u001b[0m",
      "\u001b[1;31mTypeError\u001b[0m                                 Traceback (most recent call last)",
      "Cell \u001b[1;32mIn[13], line 1\u001b[0m\n\u001b[1;32m----> 1\u001b[0m pred \u001b[38;5;241m=\u001b[39m \u001b[43mpredict_helpful\u001b[49m\u001b[43m(\u001b[49m\u001b[43m[\u001b[49m\u001b[43mrandom_text\u001b[49m\u001b[43m,\u001b[49m\u001b[43mhelp\u001b[49m\u001b[43m]\u001b[49m\u001b[43m)\u001b[49m\n",
      "\u001b[1;31mTypeError\u001b[0m: predict_helpful() missing 1 required positional argument: 'helpful'"
     ]
    }
   ],
   "source": [
    "pred = predict_helpful(random_text,help)"
   ]
  },
  {
   "cell_type": "code",
   "execution_count": 14,
   "metadata": {},
   "outputs": [],
   "source": [
    "# load the best model from the pickle file\n",
    "import joblib\n",
    "model_path = 'models/svc_helpful.pkl'\n",
    "label_encoder_path = 'models/label_encoder_helpful.pkl'\n",
    "\n",
    "best_model = joblib.load(model_path)\n",
    "label_encoder = joblib.load(label_encoder_path)"
   ]
  },
  {
   "cell_type": "code",
   "execution_count": null,
   "metadata": {},
   "outputs": [],
   "source": [
    "best_model.predict([random_text,help])"
   ]
  }
 ],
 "metadata": {
  "kernelspec": {
   "display_name": "env",
   "language": "python",
   "name": "python3"
  },
  "language_info": {
   "codemirror_mode": {
    "name": "ipython",
    "version": 3
   },
   "file_extension": ".py",
   "mimetype": "text/x-python",
   "name": "python",
   "nbconvert_exporter": "python",
   "pygments_lexer": "ipython3",
   "version": "3.10.11"
  }
 },
 "nbformat": 4,
 "nbformat_minor": 2
}
